{
 "cells": [
  {
   "cell_type": "markdown",
   "metadata": {},
   "source": [
    "Вы работаете секретарем и вам постоянно приходят различные документы. Вы должны быть очень внимательны, чтобы не потерять ни один документ. Каталог документов хранится в следующем виде:"
   ]
  },
  {
   "cell_type": "code",
   "execution_count": 243,
   "metadata": {},
   "outputs": [],
   "source": [
    "documents = [\n",
    "    {'type': 'passport', 'number': '2207 876234', 'name': 'Василий Гупкин'},\n",
    "    {'type': 'invoice', 'number': '11-2', 'name': 'Геннадий Покемонов'},\n",
    "    {'type': 'insurance', 'number': '10006', 'name': 'Аристарх Павлов'},\n",
    "    {'type': 'insurance', 'number': '123', 'name': 'gg'}\n",
    "]"
   ]
  },
  {
   "cell_type": "markdown",
   "metadata": {},
   "source": [
    "Перечень полок, на которых находятся документы хранится в следующем виде:"
   ]
  },
  {
   "cell_type": "code",
   "execution_count": 244,
   "metadata": {},
   "outputs": [],
   "source": [
    "directories = {\n",
    "    '1': ['2207 876234', '11-2'],\n",
    "    '2': ['10006'],\n",
    "    '3': []\n",
    "}"
   ]
  },
  {
   "cell_type": "markdown",
   "metadata": {},
   "source": [
    "Необходимо реализовать пользовательские команды (внимание! это не название функций, которые должны быть выразительными, а команды, которые вводит пользователь, чтобы получить необходимый результат):\n",
    "  \n",
    "- p – people – команда, которая спросит номер документа и выведет имя человека, которому он принадлежит;  \n",
    "- s – shelf – команда, которая спросит номер документа и выведет номер полки, на которой он находится  \n",
    "*Правильно обработайте ситуации, когда пользователь будет вводить несуществующий документ*.\n",
    "- l – list – команда, которая выведет список всех документов в формате   \n",
    "**passport \"2207 876234\" \"Василий Гупкин\"**  \n",
    "- as – add shelf – команда, которая спросит номер новой полки и добавит ее в перечень. *Предусмотрите случай, когда пользователь добавляет полку, которая уже существует*.\n",
    "- d – delete – команда, которая спросит номер документа и удалит его из каталога и из перечня полок. *Предусмотрите сценарий, когда пользователь вводит несуществующий документ*;  \n",
    "- m – move – команда, которая спросит номер документа и целевую полку и переместит его с текущей полки на целевую. *Корректно обработайте кейсы, когда пользователь пытается переместить несуществующий документ или переместить документ на несуществующую полку*;  \n",
    "- a – add – команда, которая добавит новый документ в каталог и в перечень полок, спросив его номер, тип, имя владельца и номер полки, на котором он будет храниться. *Корректно обработайте ситуацию, когда пользователь будет пытаться добавить документ на несуществующую полку*."
   ]
  },
  {
   "cell_type": "code",
   "execution_count": 245,
   "metadata": {},
   "outputs": [],
   "source": [
    "def person_of_document(documents):\n",
    "    document_number = input('Введите номер документа: ')\n",
    "    for document in documents:\n",
    "        if document['number'] == document_number:\n",
    "            print(document['name'])\n",
    "            return\n",
    "    print('Владелец с этим номером документа не найден')"
   ]
  },
  {
   "cell_type": "code",
   "execution_count": 246,
   "metadata": {},
   "outputs": [],
   "source": [
    "def shelf_of_document(directories):\n",
    "    document_number = input('Введите номер документа: ')\n",
    "    for shelf, document in directories.items():\n",
    "        if document_number in document:\n",
    "            print(shelf)\n",
    "            return\n",
    "    print('Документ не найден')"
   ]
  },
  {
   "cell_type": "code",
   "execution_count": 247,
   "metadata": {},
   "outputs": [],
   "source": [
    "def list_of_document(documents):\n",
    "    for document in documents:\n",
    "        print(document['type'] + ' \"' + document[\"number\"] + '\"' + ' \"' + document[\"name\"] + '\"') "
   ]
  },
  {
   "cell_type": "code",
   "execution_count": 248,
   "metadata": {},
   "outputs": [],
   "source": [
    "def add_shelf(directories):\n",
    "    shelf_number = input('Введите номер полки: ')\n",
    "    if shelf_number in directories:\n",
    "        print(f'Полка с таким номером уже заведена')\n",
    "    else:\n",
    "        directories[shelf_number] = []\n",
    "        print(f'Новая полка заведена')\n",
    "    print(directories) "
   ]
  },
  {
   "cell_type": "code",
   "execution_count": 249,
   "metadata": {},
   "outputs": [],
   "source": [
    "def del_doc_from_shelf_list(shelf_list, document_number_delete):\n",
    "    for value in shelf_list.values():\n",
    "        if document_number_delete in value:\n",
    "            value.remove(document_number_delete)\n",
    "            print('Документ в перечне полок найден и удален')                \n",
    "            return\n",
    "    print('Документ в перечне полок не найден')\n",
    "    \n",
    "def del_doc_from_catalog(catalog, document_number_delete):\n",
    "    for document in catalog:\n",
    "        if document['number'] == document_number_delete:\n",
    "            dcatalog.remove(document)\n",
    "            print('Документ в каталоге найден и удален')\n",
    "            return\n",
    "    print('Документ в каталоге не найден')\n",
    "    \n",
    "def del_doc(shelf_list, catalog):\n",
    "    document_number_delete = input('Введите номер документа: ')   \n",
    "    del_doc_document_1(shelf_list, document_number_delete)\n",
    "    del_doc_document_2(catalog, document_number_delete)"
   ]
  },
  {
   "cell_type": "code",
   "execution_count": 250,
   "metadata": {},
   "outputs": [],
   "source": [
    "def new_shelf_of_document(directories):\n",
    "    document_number = input('Введите номер документа: ')\n",
    "    for shelf, document in directories.items():\n",
    "        if document_number in document:\n",
    "            new_shelf = input('Введите номер новой полки: ')\n",
    "            if new_shelf in directories:\n",
    "                document.remove(document_number)\n",
    "                directories[new_shelf].append(document_number)\n",
    "                return\n",
    "            print('Полки с таким номером нет, создайте ее с помощью команда \"as\"') \n",
    "            return\n",
    "    print('Документа с таким номером не существует')"
   ]
  },
  {
   "cell_type": "code",
   "execution_count": 251,
   "metadata": {},
   "outputs": [],
   "source": [
    "def add_new_doc_in_catalog(catalog, document_number):\n",
    "    for document in catalog:\n",
    "        if document_number in document['number']:\n",
    "            print('Данный номер документа уже есть в каталоге')\n",
    "            return True\n",
    "    new_dictionary = {}\n",
    "    type_document = input('Введите тип документа: ')\n",
    "    full_name = input('Введите фамилию и имя: ')\n",
    "    new_dictionary['type'] = type_document\n",
    "    new_dictionary['number'] = document_number\n",
    "    new_dictionary['name'] = full_name\n",
    "    catalog.append(new_dictionary)\n",
    "    return False\n",
    "\n",
    "def add_new_doc_in_shelf_list(shelf_list, document_number):\n",
    "    new_shelf = input('Введите номер полки: ')\n",
    "    for key, value in shelf_list.items():\n",
    "        if new_shelf in shelf_list:\n",
    "            [shelf_list[new_shelf].append(document_number)]\n",
    "            return \n",
    "    print('Полки с таким номером нет, создайте ее с помощью команда \"as\"')\n",
    "    return\n",
    "\n",
    "def add_new_document(shelf_list, catalog): \n",
    "    document_number = input('Введите номер документа: ')\n",
    "    result = add_new_doc_in_catalog(catalog, document_number)\n",
    "    if not result:\n",
    "        add_new_doc_in_shelf_list(shelf_list, document_number)\n",
    "        print(shelf_list)\n",
    "        print(catalog)"
   ]
  },
  {
   "cell_type": "code",
   "execution_count": 255,
   "metadata": {},
   "outputs": [],
   "source": [
    "def main():\n",
    "    print(f'Описание команд: \\n p - поиск владельца по номеру документа; \\n s - поиск полки по номеру документа; \\n l - вывод всех документов; \\n as - добавление новой полки; \\n d - удаление полки из каталога и перечня полок; \\n m - перемещение документа на новую полку; \\n a - добавление нового документа в каталог и в перечень полок; \\n q - выход из меню')\n",
    "    while True:\n",
    "        user_input = input('Введите номер команды: ')\n",
    "        if user_input == 'p':\n",
    "            person_of_document(documents)\n",
    "        elif user_input == 's':\n",
    "            shelf_of_document(directories)\n",
    "        elif user_input == 'l':\n",
    "            list_of_document(documents)\n",
    "        elif user_input == 'as':\n",
    "            add_shelf(directories)   \n",
    "        elif user_input == 'd':\n",
    "            del_doc(directories, documents)\n",
    "        elif user_input == 'm':\n",
    "            new_shelf_of_document(directories)\n",
    "            print(directories) \n",
    "        elif user_input == 'a':\n",
    "            add_new_document(directories, documents) \n",
    "        elif user_input == 'q':\n",
    "            break"
   ]
  },
  {
   "cell_type": "code",
   "execution_count": 256,
   "metadata": {},
   "outputs": [
    {
     "name": "stdout",
     "output_type": "stream",
     "text": [
      "Описание команд: \n",
      " p - поиск владельца по номеру документа; \n",
      " s - поиск полки по номеру документа; \n",
      " l - вывод всех документов; \n",
      " as - добавление новой полки; \n",
      " d - удаление полки из каталога и перечня полок; \n",
      " m - перемещение документа на новую полку; \n",
      " a - добавление нового документа в каталог и в перечень полок; \n",
      " q - выход из меню\n",
      "Введите номер команды: a\n",
      "Введите номер документа: 123456\n",
      "Введите тип документа: id\n",
      "Введите фамилию и имя: sdfghj\n",
      "Введите номер полки: 3\n",
      "{'1': ['2207 876234', '11-2'], '2': ['10006'], '3': ['123456'], '6': []}\n",
      "[{'type': 'passport', 'number': '2207 876234', 'name': 'Василий Гупкин'}, {'type': 'invoice', 'number': '11-2', 'name': 'Геннадий Покемонов'}, {'type': 'insurance', 'number': '10006', 'name': 'Аристарх Павлов'}, {'type': 'insurance', 'number': '123', 'name': 'gg'}, {'type': 'id', 'number': '123456', 'name': 'sdfghj'}]\n",
      "Введите номер команды: a\n",
      "Введите номер документа: 11-2\n",
      "Данный номер документа уже есть в каталоге\n",
      "Введите номер команды: l\n",
      "passport \"2207 876234\" \"Василий Гупкин\"\n",
      "invoice \"11-2\" \"Геннадий Покемонов\"\n",
      "insurance \"10006\" \"Аристарх Павлов\"\n",
      "insurance \"123\" \"gg\"\n",
      "id \"123456\" \"sdfghj\"\n",
      "Введите номер команды: m\n",
      "Введите номер документа: 11-2\n",
      "Введите номер новой полки: 3\n",
      "{'1': ['2207 876234'], '2': ['10006'], '3': ['123456', '11-2'], '6': []}\n",
      "Введите номер команды: q\n"
     ]
    }
   ],
   "source": [
    "main()"
   ]
  },
  {
   "cell_type": "code",
   "execution_count": null,
   "metadata": {},
   "outputs": [],
   "source": []
  }
 ],
 "metadata": {
  "kernelspec": {
   "display_name": "Python 3",
   "language": "python",
   "name": "python3"
  },
  "language_info": {
   "codemirror_mode": {
    "name": "ipython",
    "version": 3
   },
   "file_extension": ".py",
   "mimetype": "text/x-python",
   "name": "python",
   "nbconvert_exporter": "python",
   "pygments_lexer": "ipython3",
   "version": "3.7.6"
  }
 },
 "nbformat": 4,
 "nbformat_minor": 2
}
